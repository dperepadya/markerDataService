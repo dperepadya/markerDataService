{
 "cells": [
  {
   "cell_type": "code",
   "id": "initial_id",
   "metadata": {
    "collapsed": true,
    "ExecuteTime": {
     "end_time": "2024-08-30T17:05:15.674413Z",
     "start_time": "2024-08-30T17:05:15.490903Z"
    }
   },
   "source": [
    "import pandas as pd\n",
    "import matplotlib.pyplot as plt\n",
    "from datetime import datetime\n",
    "from sqlalchemy import create_engine"
   ],
   "outputs": [],
   "execution_count": 168
  },
  {
   "metadata": {
    "ExecuteTime": {
     "end_time": "2024-08-30T17:05:15.882411Z",
     "start_time": "2024-08-30T17:05:15.858383Z"
    }
   },
   "cell_type": "code",
   "source": [
    "exchange_id = 1\n",
    "symbol_id = 8"
   ],
   "id": "4e8af0b84d207969",
   "outputs": [],
   "execution_count": 169
  },
  {
   "metadata": {
    "ExecuteTime": {
     "end_time": "2024-08-30T17:05:16.076923Z",
     "start_time": "2024-08-30T17:05:16.038106Z"
    }
   },
   "cell_type": "code",
   "source": [
    "start_time = '2024-08-29 08:00:00'\n",
    "end_time = '2024-08-30 23:59:59'\n",
    "start_time = datetime.strptime(start_time, '%Y-%m-%d %H:%M:%S')\n",
    "end_time = datetime.strptime(end_time, '%Y-%m-%d %H:%M:%S')"
   ],
   "id": "ddd160c0235f240a",
   "outputs": [],
   "execution_count": 170
  },
  {
   "metadata": {
    "ExecuteTime": {
     "end_time": "2024-08-30T17:05:16.282405Z",
     "start_time": "2024-08-30T17:05:16.249905Z"
    }
   },
   "cell_type": "code",
   "source": [
    "dbname='market_data'\n",
    "user='postgres'\n",
    "password='qwerty123'\n",
    "host='localhost'\n",
    "port='5432'"
   ],
   "id": "13db3cf180c14103",
   "outputs": [],
   "execution_count": 171
  },
  {
   "metadata": {
    "ExecuteTime": {
     "end_time": "2024-08-30T17:05:16.627486Z",
     "start_time": "2024-08-30T17:05:16.585825Z"
    }
   },
   "cell_type": "code",
   "source": "conn_url = f'postgresql://{user}:{password}@{host}:{port}/{dbname}'",
   "id": "44f9d08fc9da6c33",
   "outputs": [],
   "execution_count": 172
  },
  {
   "metadata": {
    "ExecuteTime": {
     "end_time": "2024-08-30T17:05:16.955439Z",
     "start_time": "2024-08-30T17:05:16.780672Z"
    }
   },
   "cell_type": "code",
   "source": "engine  = create_engine(conn_url)",
   "id": "9cab1f7569dec455",
   "outputs": [],
   "execution_count": 173
  },
  {
   "metadata": {
    "ExecuteTime": {
     "end_time": "2024-08-30T17:05:16.984452Z",
     "start_time": "2024-08-30T17:05:16.962441Z"
    }
   },
   "cell_type": "code",
   "source": "query = f\"SELECT timestamp, last_price FROM public.tickers WHERE exchange_id = %s AND symbol_id = %s ORDER BY timestamp ASC\"",
   "id": "6e566e036a489870",
   "outputs": [],
   "execution_count": 174
  },
  {
   "metadata": {
    "ExecuteTime": {
     "end_time": "2024-08-30T17:05:18.085946Z",
     "start_time": "2024-08-30T17:05:17.156230Z"
    }
   },
   "cell_type": "code",
   "source": "df = pd.read_sql_query(query, engine , params=(exchange_id, symbol_id))",
   "id": "ebb76952435185f7",
   "outputs": [],
   "execution_count": 175
  },
  {
   "metadata": {
    "ExecuteTime": {
     "end_time": "2024-08-30T17:05:18.259891Z",
     "start_time": "2024-08-30T17:05:18.103935Z"
    }
   },
   "cell_type": "code",
   "source": "df.head()",
   "id": "fd09275dff0222b",
   "outputs": [
    {
     "data": {
      "text/plain": [
       "                         timestamp  last_price\n",
       "0 2024-08-30 17:01:08.068000+00:00       5.311\n",
       "1 2024-08-30 17:01:08.068000+00:00       5.311\n",
       "2 2024-08-30 17:01:08.070000+00:00       5.311\n",
       "3 2024-08-30 17:01:08.070000+00:00       5.311\n",
       "4 2024-08-30 17:01:08.070000+00:00       5.311"
      ],
      "text/html": [
       "<div>\n",
       "<style scoped>\n",
       "    .dataframe tbody tr th:only-of-type {\n",
       "        vertical-align: middle;\n",
       "    }\n",
       "\n",
       "    .dataframe tbody tr th {\n",
       "        vertical-align: top;\n",
       "    }\n",
       "\n",
       "    .dataframe thead th {\n",
       "        text-align: right;\n",
       "    }\n",
       "</style>\n",
       "<table border=\"1\" class=\"dataframe\">\n",
       "  <thead>\n",
       "    <tr style=\"text-align: right;\">\n",
       "      <th></th>\n",
       "      <th>timestamp</th>\n",
       "      <th>last_price</th>\n",
       "    </tr>\n",
       "  </thead>\n",
       "  <tbody>\n",
       "    <tr>\n",
       "      <th>0</th>\n",
       "      <td>2024-08-30 17:01:08.068000+00:00</td>\n",
       "      <td>5.311</td>\n",
       "    </tr>\n",
       "    <tr>\n",
       "      <th>1</th>\n",
       "      <td>2024-08-30 17:01:08.068000+00:00</td>\n",
       "      <td>5.311</td>\n",
       "    </tr>\n",
       "    <tr>\n",
       "      <th>2</th>\n",
       "      <td>2024-08-30 17:01:08.070000+00:00</td>\n",
       "      <td>5.311</td>\n",
       "    </tr>\n",
       "    <tr>\n",
       "      <th>3</th>\n",
       "      <td>2024-08-30 17:01:08.070000+00:00</td>\n",
       "      <td>5.311</td>\n",
       "    </tr>\n",
       "    <tr>\n",
       "      <th>4</th>\n",
       "      <td>2024-08-30 17:01:08.070000+00:00</td>\n",
       "      <td>5.311</td>\n",
       "    </tr>\n",
       "  </tbody>\n",
       "</table>\n",
       "</div>"
      ]
     },
     "execution_count": 176,
     "metadata": {},
     "output_type": "execute_result"
    }
   ],
   "execution_count": 176
  },
  {
   "metadata": {
    "ExecuteTime": {
     "end_time": "2024-08-30T17:05:18.304894Z",
     "start_time": "2024-08-30T17:05:18.263894Z"
    }
   },
   "cell_type": "code",
   "source": "query = f\"SELECT timestamp, last_price, side FROM public.tickers WHERE exchange_id = %s AND symbol_id = %s AND timestamp BETWEEN %s AND %s ORDER BY timestamp ASC\"",
   "id": "16be4921b1389faa",
   "outputs": [],
   "execution_count": 177
  },
  {
   "metadata": {
    "ExecuteTime": {
     "end_time": "2024-08-30T17:05:18.416900Z",
     "start_time": "2024-08-30T17:05:18.369892Z"
    }
   },
   "cell_type": "code",
   "source": "df = pd.read_sql_query(query, engine , params=(exchange_id, symbol_id, start_time, end_time))",
   "id": "64321b41605d56ab",
   "outputs": [],
   "execution_count": 178
  },
  {
   "metadata": {
    "ExecuteTime": {
     "end_time": "2024-08-30T17:05:18.441912Z",
     "start_time": "2024-08-30T17:05:18.424908Z"
    }
   },
   "cell_type": "code",
   "source": "# df",
   "id": "fa8d33bbf79862fe",
   "outputs": [],
   "execution_count": 179
  },
  {
   "metadata": {
    "ExecuteTime": {
     "end_time": "2024-08-30T17:05:18.529908Z",
     "start_time": "2024-08-30T17:05:18.448898Z"
    }
   },
   "cell_type": "code",
   "source": [
    "df['sell_price'] = df['last_price'].where(df['side'] == True)\n",
    "df['buy_price'] = df['last_price'].where(df['side'] == False)"
   ],
   "id": "a8e5e440258ce3d0",
   "outputs": [],
   "execution_count": 180
  },
  {
   "metadata": {
    "ExecuteTime": {
     "end_time": "2024-08-30T17:05:18.627918Z",
     "start_time": "2024-08-30T17:05:18.548904Z"
    }
   },
   "cell_type": "code",
   "source": "df.head(5)",
   "id": "fbe809cac8e87774",
   "outputs": [
    {
     "data": {
      "text/plain": [
       "                         timestamp  last_price  side  sell_price  buy_price\n",
       "0 2024-08-30 17:01:08.068000+00:00       5.311  True       5.311        NaN\n",
       "1 2024-08-30 17:01:08.068000+00:00       5.311  True       5.311        NaN\n",
       "2 2024-08-30 17:01:08.070000+00:00       5.311  True       5.311        NaN\n",
       "3 2024-08-30 17:01:08.070000+00:00       5.311  True       5.311        NaN\n",
       "4 2024-08-30 17:01:08.070000+00:00       5.311  True       5.311        NaN"
      ],
      "text/html": [
       "<div>\n",
       "<style scoped>\n",
       "    .dataframe tbody tr th:only-of-type {\n",
       "        vertical-align: middle;\n",
       "    }\n",
       "\n",
       "    .dataframe tbody tr th {\n",
       "        vertical-align: top;\n",
       "    }\n",
       "\n",
       "    .dataframe thead th {\n",
       "        text-align: right;\n",
       "    }\n",
       "</style>\n",
       "<table border=\"1\" class=\"dataframe\">\n",
       "  <thead>\n",
       "    <tr style=\"text-align: right;\">\n",
       "      <th></th>\n",
       "      <th>timestamp</th>\n",
       "      <th>last_price</th>\n",
       "      <th>side</th>\n",
       "      <th>sell_price</th>\n",
       "      <th>buy_price</th>\n",
       "    </tr>\n",
       "  </thead>\n",
       "  <tbody>\n",
       "    <tr>\n",
       "      <th>0</th>\n",
       "      <td>2024-08-30 17:01:08.068000+00:00</td>\n",
       "      <td>5.311</td>\n",
       "      <td>True</td>\n",
       "      <td>5.311</td>\n",
       "      <td>NaN</td>\n",
       "    </tr>\n",
       "    <tr>\n",
       "      <th>1</th>\n",
       "      <td>2024-08-30 17:01:08.068000+00:00</td>\n",
       "      <td>5.311</td>\n",
       "      <td>True</td>\n",
       "      <td>5.311</td>\n",
       "      <td>NaN</td>\n",
       "    </tr>\n",
       "    <tr>\n",
       "      <th>2</th>\n",
       "      <td>2024-08-30 17:01:08.070000+00:00</td>\n",
       "      <td>5.311</td>\n",
       "      <td>True</td>\n",
       "      <td>5.311</td>\n",
       "      <td>NaN</td>\n",
       "    </tr>\n",
       "    <tr>\n",
       "      <th>3</th>\n",
       "      <td>2024-08-30 17:01:08.070000+00:00</td>\n",
       "      <td>5.311</td>\n",
       "      <td>True</td>\n",
       "      <td>5.311</td>\n",
       "      <td>NaN</td>\n",
       "    </tr>\n",
       "    <tr>\n",
       "      <th>4</th>\n",
       "      <td>2024-08-30 17:01:08.070000+00:00</td>\n",
       "      <td>5.311</td>\n",
       "      <td>True</td>\n",
       "      <td>5.311</td>\n",
       "      <td>NaN</td>\n",
       "    </tr>\n",
       "  </tbody>\n",
       "</table>\n",
       "</div>"
      ]
     },
     "execution_count": 181,
     "metadata": {},
     "output_type": "execute_result"
    }
   ],
   "execution_count": 181
  },
  {
   "metadata": {
    "ExecuteTime": {
     "end_time": "2024-08-30T17:05:18.760902Z",
     "start_time": "2024-08-30T17:05:18.714924Z"
    }
   },
   "cell_type": "code",
   "source": [
    "exchange_query = f\"SELECT name FROM public.exchanges WHERE id = %s\" \n",
    "exchange_name = pd.read_sql_query(exchange_query, engine , params=(exchange_id,)).iloc[0, 0]"
   ],
   "id": "72fe5642d3998573",
   "outputs": [],
   "execution_count": 182
  },
  {
   "metadata": {
    "ExecuteTime": {
     "end_time": "2024-08-30T17:05:19.257260Z",
     "start_time": "2024-08-30T17:05:19.215281Z"
    }
   },
   "cell_type": "code",
   "source": [
    "symbol_query = f\"SELECT name FROM public.symbols WHERE id = %s AND exchange_id = %s\"\n",
    "symbol_name = pd.read_sql_query(symbol_query, engine , params=(symbol_id, exchange_id,)).iloc[0, 0]"
   ],
   "id": "67f1e4e1107ce4a4",
   "outputs": [],
   "execution_count": 183
  },
  {
   "metadata": {
    "ExecuteTime": {
     "end_time": "2024-08-30T17:05:22.893522Z",
     "start_time": "2024-08-30T17:05:19.770003Z"
    }
   },
   "cell_type": "code",
   "source": [
    "plt.figure(figsize=(12, 6))\n",
    "plt.plot(df['timestamp'], df['sell_price'], marker='o', linestyle='None', color='r')\n",
    "plt.plot(df['timestamp'], df['buy_price'], marker='o', linestyle='None', color='g')\n",
    "plt.title(f'Last Price. Exchange {exchange_name} and Symbol {symbol_name}')\n",
    "plt.xlabel('Timestamp')\n",
    "plt.ylabel('Price')\n",
    "plt.gca().yaxis.set_major_formatter(plt.FuncFormatter(lambda x, _: f'{x:.5f}'))\n",
    "plt.grid(True)\n",
    "plt.show()"
   ],
   "id": "72af8b181812a7d1",
   "outputs": [
    {
     "data": {
      "text/plain": [
       "<Figure size 1200x600 with 1 Axes>"
      ],
      "image/png": "[encoded data removed]"
     },
     "metadata": {},
     "output_type": "display_data"
    }
   ],
   "execution_count": 184
  },
  {
   "metadata": {
    "ExecuteTime": {
     "end_time": "2024-08-30T17:05:22.946520Z",
     "start_time": "2024-08-30T17:05:22.901524Z"
    }
   },
   "cell_type": "code",
   "source": "",
   "id": "c9d85cc8d8d8d600",
   "outputs": [],
   "execution_count": 184
  }
 ],
 "metadata": {
  "kernelspec": {
   "display_name": "Python 3",
   "language": "python",
   "name": "python3"
  },
  "language_info": {
   "codemirror_mode": {
    "name": "ipython",
    "version": 2
   },
   "file_extension": ".py",
   "mimetype": "text/x-python",
   "name": "python",
   "nbconvert_exporter": "python",
   "pygments_lexer": "ipython2",
   "version": "2.7.6"
  }
 },
 "nbformat": 4,
 "nbformat_minor": 5
}
