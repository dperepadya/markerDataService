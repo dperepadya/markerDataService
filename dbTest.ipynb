{
 "cells": [
  {
   "cell_type": "code",
   "id": "initial_id",
   "metadata": {
    "collapsed": true,
    "ExecuteTime": {
     "end_time": "2024-08-29T16:38:30.415261Z",
     "start_time": "2024-08-29T16:38:30.392337Z"
    }
   },
   "source": [
    "import pandas as pd\n",
    "import numpy as np\n",
    "import matplotlib.pyplot as plt\n",
    "from datetime import datetime\n",
    "from sqlalchemy import create_engine"
   ],
   "outputs": [],
   "execution_count": 49
  },
  {
   "metadata": {
    "ExecuteTime": {
     "end_time": "2024-08-29T16:38:30.890802Z",
     "start_time": "2024-08-29T16:38:30.872800Z"
    }
   },
   "cell_type": "code",
   "source": [
    "exchange_id = 1\n",
    "symbol_id = 1"
   ],
   "id": "4e8af0b84d207969",
   "outputs": [],
   "execution_count": 50
  },
  {
   "metadata": {
    "ExecuteTime": {
     "end_time": "2024-08-29T16:42:53.405754Z",
     "start_time": "2024-08-29T16:42:53.357761Z"
    }
   },
   "cell_type": "code",
   "source": [
    "start_time = '2024-08-29 08:00:00'\n",
    "end_time = '2024-08-30 23:59:59'\n",
    "start_time = datetime.strptime(start_time, '%Y-%m-%d %H:%M:%S')\n",
    "end_time = datetime.strptime(end_time, '%Y-%m-%d %H:%M:%S')"
   ],
   "id": "ddd160c0235f240a",
   "outputs": [],
   "execution_count": 58
  },
  {
   "metadata": {
    "ExecuteTime": {
     "end_time": "2024-08-29T16:42:53.945736Z",
     "start_time": "2024-08-29T16:42:53.929734Z"
    }
   },
   "cell_type": "code",
   "source": [
    "dbname='market_data'\n",
    "user='postgres'\n",
    "password='qwerty123'\n",
    "host='localhost'\n",
    "port='5432'"
   ],
   "id": "13db3cf180c14103",
   "outputs": [],
   "execution_count": 59
  },
  {
   "metadata": {
    "ExecuteTime": {
     "end_time": "2024-08-29T16:42:54.525342Z",
     "start_time": "2024-08-29T16:42:54.513343Z"
    }
   },
   "cell_type": "code",
   "source": "conn_url = f'postgresql://{user}:{password}@{host}:{port}/{dbname}'",
   "id": "44f9d08fc9da6c33",
   "outputs": [],
   "execution_count": 60
  },
  {
   "metadata": {
    "ExecuteTime": {
     "end_time": "2024-08-29T16:42:55.219626Z",
     "start_time": "2024-08-29T16:42:55.182623Z"
    }
   },
   "cell_type": "code",
   "source": "engine  = create_engine(conn_url)",
   "id": "9cab1f7569dec455",
   "outputs": [],
   "execution_count": 61
  },
  {
   "metadata": {
    "ExecuteTime": {
     "end_time": "2024-08-29T16:42:55.919006Z",
     "start_time": "2024-08-29T16:42:55.902722Z"
    }
   },
   "cell_type": "code",
   "source": "query = f\"SELECT timestamp, last_price FROM public.tickers WHERE exchange_id = %s AND symbol_id = %s ORDER BY timestamp ASC\"",
   "id": "6e566e036a489870",
   "outputs": [],
   "execution_count": 62
  },
  {
   "metadata": {
    "ExecuteTime": {
     "end_time": "2024-08-29T16:42:56.842982Z",
     "start_time": "2024-08-29T16:42:56.622614Z"
    }
   },
   "cell_type": "code",
   "source": "df = pd.read_sql_query(query, engine , params=(exchange_id, symbol_id))",
   "id": "ebb76952435185f7",
   "outputs": [],
   "execution_count": 63
  },
  {
   "metadata": {
    "ExecuteTime": {
     "end_time": "2024-08-29T16:42:58.091756Z",
     "start_time": "2024-08-29T16:42:58.065278Z"
    }
   },
   "cell_type": "code",
   "source": "df.head()",
   "id": "fd09275dff0222b",
   "outputs": [
    {
     "data": {
      "text/plain": [
       "                         timestamp  last_price\n",
       "0 2024-08-29 13:50:02.927000+00:00     0.04241\n",
       "1 2024-08-29 13:50:02.929000+00:00     0.04241\n",
       "2 2024-08-29 13:50:06.688000+00:00     0.04241\n",
       "3 2024-08-29 13:50:08.021000+00:00     0.04240\n",
       "4 2024-08-29 13:50:08.847000+00:00     0.04241"
      ],
      "text/html": [
       "<div>\n",
       "<style scoped>\n",
       "    .dataframe tbody tr th:only-of-type {\n",
       "        vertical-align: middle;\n",
       "    }\n",
       "\n",
       "    .dataframe tbody tr th {\n",
       "        vertical-align: top;\n",
       "    }\n",
       "\n",
       "    .dataframe thead th {\n",
       "        text-align: right;\n",
       "    }\n",
       "</style>\n",
       "<table border=\"1\" class=\"dataframe\">\n",
       "  <thead>\n",
       "    <tr style=\"text-align: right;\">\n",
       "      <th></th>\n",
       "      <th>timestamp</th>\n",
       "      <th>last_price</th>\n",
       "    </tr>\n",
       "  </thead>\n",
       "  <tbody>\n",
       "    <tr>\n",
       "      <th>0</th>\n",
       "      <td>2024-08-29 13:50:02.927000+00:00</td>\n",
       "      <td>0.04241</td>\n",
       "    </tr>\n",
       "    <tr>\n",
       "      <th>1</th>\n",
       "      <td>2024-08-29 13:50:02.929000+00:00</td>\n",
       "      <td>0.04241</td>\n",
       "    </tr>\n",
       "    <tr>\n",
       "      <th>2</th>\n",
       "      <td>2024-08-29 13:50:06.688000+00:00</td>\n",
       "      <td>0.04241</td>\n",
       "    </tr>\n",
       "    <tr>\n",
       "      <th>3</th>\n",
       "      <td>2024-08-29 13:50:08.021000+00:00</td>\n",
       "      <td>0.04240</td>\n",
       "    </tr>\n",
       "    <tr>\n",
       "      <th>4</th>\n",
       "      <td>2024-08-29 13:50:08.847000+00:00</td>\n",
       "      <td>0.04241</td>\n",
       "    </tr>\n",
       "  </tbody>\n",
       "</table>\n",
       "</div>"
      ]
     },
     "execution_count": 64,
     "metadata": {},
     "output_type": "execute_result"
    }
   ],
   "execution_count": 64
  },
  {
   "metadata": {
    "ExecuteTime": {
     "end_time": "2024-08-29T17:22:44.092233Z",
     "start_time": "2024-08-29T17:22:43.956243Z"
    }
   },
   "cell_type": "code",
   "source": "query = f\"SELECT timestamp, last_price, side FROM public.tickers WHERE exchange_id = %s AND symbol_id = %s AND timestamp BETWEEN %s AND %s ORDER BY timestamp ASC\"",
   "id": "16be4921b1389faa",
   "outputs": [],
   "execution_count": 99
  },
  {
   "metadata": {
    "ExecuteTime": {
     "end_time": "2024-08-29T17:22:44.733542Z",
     "start_time": "2024-08-29T17:22:44.555705Z"
    }
   },
   "cell_type": "code",
   "source": "df = pd.read_sql_query(query, engine , params=(exchange_id, symbol_id, start_time, end_time))",
   "id": "64321b41605d56ab",
   "outputs": [],
   "execution_count": 100
  },
  {
   "metadata": {
    "ExecuteTime": {
     "end_time": "2024-08-29T17:22:45.680312Z",
     "start_time": "2024-08-29T17:22:45.630392Z"
    }
   },
   "cell_type": "code",
   "source": "df",
   "id": "fa8d33bbf79862fe",
   "outputs": [
    {
     "data": {
      "text/plain": [
       "                          timestamp  last_price   side\n",
       "0  2024-08-29 13:50:02.927000+00:00     0.04241  False\n",
       "1  2024-08-29 13:50:02.929000+00:00     0.04241  False\n",
       "2  2024-08-29 13:50:06.688000+00:00     0.04241  False\n",
       "3  2024-08-29 13:50:08.021000+00:00     0.04240   True\n",
       "4  2024-08-29 13:50:08.847000+00:00     0.04241  False\n",
       "5  2024-08-29 13:50:08.847000+00:00     0.04241  False\n",
       "6  2024-08-29 13:50:08.847000+00:00     0.04241  False\n",
       "7  2024-08-29 13:50:08.847000+00:00     0.04241  False\n",
       "8  2024-08-29 13:50:08.847000+00:00     0.04241  False\n",
       "9  2024-08-29 13:50:08.847000+00:00     0.04241  False\n",
       "10 2024-08-29 13:50:08.847000+00:00     0.04241  False\n",
       "11 2024-08-29 13:50:08.847000+00:00     0.04241  False\n",
       "12 2024-08-29 13:50:08.847000+00:00     0.04241  False\n",
       "13 2024-08-29 13:50:12.023000+00:00     0.04241  False\n",
       "14 2024-08-29 13:50:12.039000+00:00     0.04241  False\n",
       "15 2024-08-29 13:50:12.623000+00:00     0.04240   True\n",
       "16 2024-08-29 13:50:12.887000+00:00     0.04241  False\n",
       "17 2024-08-29 13:50:12.887000+00:00     0.04241  False\n",
       "18 2024-08-29 13:50:12.887000+00:00     0.04241  False\n",
       "19 2024-08-29 13:50:12.887000+00:00     0.04241  False\n",
       "20 2024-08-29 13:50:12.887000+00:00     0.04241  False\n",
       "21 2024-08-29 13:50:12.887000+00:00     0.04241  False\n",
       "22 2024-08-29 13:50:12.887000+00:00     0.04241  False\n",
       "23 2024-08-29 13:50:12.887000+00:00     0.04241  False"
      ],
      "text/html": [
       "<div>\n",
       "<style scoped>\n",
       "    .dataframe tbody tr th:only-of-type {\n",
       "        vertical-align: middle;\n",
       "    }\n",
       "\n",
       "    .dataframe tbody tr th {\n",
       "        vertical-align: top;\n",
       "    }\n",
       "\n",
       "    .dataframe thead th {\n",
       "        text-align: right;\n",
       "    }\n",
       "</style>\n",
       "<table border=\"1\" class=\"dataframe\">\n",
       "  <thead>\n",
       "    <tr style=\"text-align: right;\">\n",
       "      <th></th>\n",
       "      <th>timestamp</th>\n",
       "      <th>last_price</th>\n",
       "      <th>side</th>\n",
       "    </tr>\n",
       "  </thead>\n",
       "  <tbody>\n",
       "    <tr>\n",
       "      <th>0</th>\n",
       "      <td>2024-08-29 13:50:02.927000+00:00</td>\n",
       "      <td>0.04241</td>\n",
       "      <td>False</td>\n",
       "    </tr>\n",
       "    <tr>\n",
       "      <th>1</th>\n",
       "      <td>2024-08-29 13:50:02.929000+00:00</td>\n",
       "      <td>0.04241</td>\n",
       "      <td>False</td>\n",
       "    </tr>\n",
       "    <tr>\n",
       "      <th>2</th>\n",
       "      <td>2024-08-29 13:50:06.688000+00:00</td>\n",
       "      <td>0.04241</td>\n",
       "      <td>False</td>\n",
       "    </tr>\n",
       "    <tr>\n",
       "      <th>3</th>\n",
       "      <td>2024-08-29 13:50:08.021000+00:00</td>\n",
       "      <td>0.04240</td>\n",
       "      <td>True</td>\n",
       "    </tr>\n",
       "    <tr>\n",
       "      <th>4</th>\n",
       "      <td>2024-08-29 13:50:08.847000+00:00</td>\n",
       "      <td>0.04241</td>\n",
       "      <td>False</td>\n",
       "    </tr>\n",
       "    <tr>\n",
       "      <th>5</th>\n",
       "      <td>2024-08-29 13:50:08.847000+00:00</td>\n",
       "      <td>0.04241</td>\n",
       "      <td>False</td>\n",
       "    </tr>\n",
       "    <tr>\n",
       "      <th>6</th>\n",
       "      <td>2024-08-29 13:50:08.847000+00:00</td>\n",
       "      <td>0.04241</td>\n",
       "      <td>False</td>\n",
       "    </tr>\n",
       "    <tr>\n",
       "      <th>7</th>\n",
       "      <td>2024-08-29 13:50:08.847000+00:00</td>\n",
       "      <td>0.04241</td>\n",
       "      <td>False</td>\n",
       "    </tr>\n",
       "    <tr>\n",
       "      <th>8</th>\n",
       "      <td>2024-08-29 13:50:08.847000+00:00</td>\n",
       "      <td>0.04241</td>\n",
       "      <td>False</td>\n",
       "    </tr>\n",
       "    <tr>\n",
       "      <th>9</th>\n",
       "      <td>2024-08-29 13:50:08.847000+00:00</td>\n",
       "      <td>0.04241</td>\n",
       "      <td>False</td>\n",
       "    </tr>\n",
       "    <tr>\n",
       "      <th>10</th>\n",
       "      <td>2024-08-29 13:50:08.847000+00:00</td>\n",
       "      <td>0.04241</td>\n",
       "      <td>False</td>\n",
       "    </tr>\n",
       "    <tr>\n",
       "      <th>11</th>\n",
       "      <td>2024-08-29 13:50:08.847000+00:00</td>\n",
       "      <td>0.04241</td>\n",
       "      <td>False</td>\n",
       "    </tr>\n",
       "    <tr>\n",
       "      <th>12</th>\n",
       "      <td>2024-08-29 13:50:08.847000+00:00</td>\n",
       "      <td>0.04241</td>\n",
       "      <td>False</td>\n",
       "    </tr>\n",
       "    <tr>\n",
       "      <th>13</th>\n",
       "      <td>2024-08-29 13:50:12.023000+00:00</td>\n",
       "      <td>0.04241</td>\n",
       "      <td>False</td>\n",
       "    </tr>\n",
       "    <tr>\n",
       "      <th>14</th>\n",
       "      <td>2024-08-29 13:50:12.039000+00:00</td>\n",
       "      <td>0.04241</td>\n",
       "      <td>False</td>\n",
       "    </tr>\n",
       "    <tr>\n",
       "      <th>15</th>\n",
       "      <td>2024-08-29 13:50:12.623000+00:00</td>\n",
       "      <td>0.04240</td>\n",
       "      <td>True</td>\n",
       "    </tr>\n",
       "    <tr>\n",
       "      <th>16</th>\n",
       "      <td>2024-08-29 13:50:12.887000+00:00</td>\n",
       "      <td>0.04241</td>\n",
       "      <td>False</td>\n",
       "    </tr>\n",
       "    <tr>\n",
       "      <th>17</th>\n",
       "      <td>2024-08-29 13:50:12.887000+00:00</td>\n",
       "      <td>0.04241</td>\n",
       "      <td>False</td>\n",
       "    </tr>\n",
       "    <tr>\n",
       "      <th>18</th>\n",
       "      <td>2024-08-29 13:50:12.887000+00:00</td>\n",
       "      <td>0.04241</td>\n",
       "      <td>False</td>\n",
       "    </tr>\n",
       "    <tr>\n",
       "      <th>19</th>\n",
       "      <td>2024-08-29 13:50:12.887000+00:00</td>\n",
       "      <td>0.04241</td>\n",
       "      <td>False</td>\n",
       "    </tr>\n",
       "    <tr>\n",
       "      <th>20</th>\n",
       "      <td>2024-08-29 13:50:12.887000+00:00</td>\n",
       "      <td>0.04241</td>\n",
       "      <td>False</td>\n",
       "    </tr>\n",
       "    <tr>\n",
       "      <th>21</th>\n",
       "      <td>2024-08-29 13:50:12.887000+00:00</td>\n",
       "      <td>0.04241</td>\n",
       "      <td>False</td>\n",
       "    </tr>\n",
       "    <tr>\n",
       "      <th>22</th>\n",
       "      <td>2024-08-29 13:50:12.887000+00:00</td>\n",
       "      <td>0.04241</td>\n",
       "      <td>False</td>\n",
       "    </tr>\n",
       "    <tr>\n",
       "      <th>23</th>\n",
       "      <td>2024-08-29 13:50:12.887000+00:00</td>\n",
       "      <td>0.04241</td>\n",
       "      <td>False</td>\n",
       "    </tr>\n",
       "  </tbody>\n",
       "</table>\n",
       "</div>"
      ]
     },
     "execution_count": 101,
     "metadata": {},
     "output_type": "execute_result"
    }
   ],
   "execution_count": 101
  },
  {
   "metadata": {
    "ExecuteTime": {
     "end_time": "2024-08-29T17:28:18.126038Z",
     "start_time": "2024-08-29T17:28:18.109005Z"
    }
   },
   "cell_type": "code",
   "source": [
    "df['sell_price'] = df['last_price'].where(df['side'] == True)\n",
    "df['buy_price'] = df['last_price'].where(df['side'] == False)"
   ],
   "id": "a8e5e440258ce3d0",
   "outputs": [],
   "execution_count": 110
  },
  {
   "metadata": {
    "ExecuteTime": {
     "end_time": "2024-08-29T17:28:18.651467Z",
     "start_time": "2024-08-29T17:28:18.604789Z"
    }
   },
   "cell_type": "code",
   "source": "df",
   "id": "fbe809cac8e87774",
   "outputs": [
    {
     "data": {
      "text/plain": [
       "                          timestamp  last_price   side  sell_price  buy_price\n",
       "0  2024-08-29 13:50:02.927000+00:00     0.04241  False         NaN    0.04241\n",
       "1  2024-08-29 13:50:02.929000+00:00     0.04241  False         NaN    0.04241\n",
       "2  2024-08-29 13:50:06.688000+00:00     0.04241  False         NaN    0.04241\n",
       "3  2024-08-29 13:50:08.021000+00:00     0.04240   True      0.0424        NaN\n",
       "4  2024-08-29 13:50:08.847000+00:00     0.04241  False         NaN    0.04241\n",
       "5  2024-08-29 13:50:08.847000+00:00     0.04241  False         NaN    0.04241\n",
       "6  2024-08-29 13:50:08.847000+00:00     0.04241  False         NaN    0.04241\n",
       "7  2024-08-29 13:50:08.847000+00:00     0.04241  False         NaN    0.04241\n",
       "8  2024-08-29 13:50:08.847000+00:00     0.04241  False         NaN    0.04241\n",
       "9  2024-08-29 13:50:08.847000+00:00     0.04241  False         NaN    0.04241\n",
       "10 2024-08-29 13:50:08.847000+00:00     0.04241  False         NaN    0.04241\n",
       "11 2024-08-29 13:50:08.847000+00:00     0.04241  False         NaN    0.04241\n",
       "12 2024-08-29 13:50:08.847000+00:00     0.04241  False         NaN    0.04241\n",
       "13 2024-08-29 13:50:12.023000+00:00     0.04241  False         NaN    0.04241\n",
       "14 2024-08-29 13:50:12.039000+00:00     0.04241  False         NaN    0.04241\n",
       "15 2024-08-29 13:50:12.623000+00:00     0.04240   True      0.0424        NaN\n",
       "16 2024-08-29 13:50:12.887000+00:00     0.04241  False         NaN    0.04241\n",
       "17 2024-08-29 13:50:12.887000+00:00     0.04241  False         NaN    0.04241\n",
       "18 2024-08-29 13:50:12.887000+00:00     0.04241  False         NaN    0.04241\n",
       "19 2024-08-29 13:50:12.887000+00:00     0.04241  False         NaN    0.04241\n",
       "20 2024-08-29 13:50:12.887000+00:00     0.04241  False         NaN    0.04241\n",
       "21 2024-08-29 13:50:12.887000+00:00     0.04241  False         NaN    0.04241\n",
       "22 2024-08-29 13:50:12.887000+00:00     0.04241  False         NaN    0.04241\n",
       "23 2024-08-29 13:50:12.887000+00:00     0.04241  False         NaN    0.04241"
      ],
      "text/html": [
       "<div>\n",
       "<style scoped>\n",
       "    .dataframe tbody tr th:only-of-type {\n",
       "        vertical-align: middle;\n",
       "    }\n",
       "\n",
       "    .dataframe tbody tr th {\n",
       "        vertical-align: top;\n",
       "    }\n",
       "\n",
       "    .dataframe thead th {\n",
       "        text-align: right;\n",
       "    }\n",
       "</style>\n",
       "<table border=\"1\" class=\"dataframe\">\n",
       "  <thead>\n",
       "    <tr style=\"text-align: right;\">\n",
       "      <th></th>\n",
       "      <th>timestamp</th>\n",
       "      <th>last_price</th>\n",
       "      <th>side</th>\n",
       "      <th>sell_price</th>\n",
       "      <th>buy_price</th>\n",
       "    </tr>\n",
       "  </thead>\n",
       "  <tbody>\n",
       "    <tr>\n",
       "      <th>0</th>\n",
       "      <td>2024-08-29 13:50:02.927000+00:00</td>\n",
       "      <td>0.04241</td>\n",
       "      <td>False</td>\n",
       "      <td>NaN</td>\n",
       "      <td>0.04241</td>\n",
       "    </tr>\n",
       "    <tr>\n",
       "      <th>1</th>\n",
       "      <td>2024-08-29 13:50:02.929000+00:00</td>\n",
       "      <td>0.04241</td>\n",
       "      <td>False</td>\n",
       "      <td>NaN</td>\n",
       "      <td>0.04241</td>\n",
       "    </tr>\n",
       "    <tr>\n",
       "      <th>2</th>\n",
       "      <td>2024-08-29 13:50:06.688000+00:00</td>\n",
       "      <td>0.04241</td>\n",
       "      <td>False</td>\n",
       "      <td>NaN</td>\n",
       "      <td>0.04241</td>\n",
       "    </tr>\n",
       "    <tr>\n",
       "      <th>3</th>\n",
       "      <td>2024-08-29 13:50:08.021000+00:00</td>\n",
       "      <td>0.04240</td>\n",
       "      <td>True</td>\n",
       "      <td>0.0424</td>\n",
       "      <td>NaN</td>\n",
       "    </tr>\n",
       "    <tr>\n",
       "      <th>4</th>\n",
       "      <td>2024-08-29 13:50:08.847000+00:00</td>\n",
       "      <td>0.04241</td>\n",
       "      <td>False</td>\n",
       "      <td>NaN</td>\n",
       "      <td>0.04241</td>\n",
       "    </tr>\n",
       "    <tr>\n",
       "      <th>5</th>\n",
       "      <td>2024-08-29 13:50:08.847000+00:00</td>\n",
       "      <td>0.04241</td>\n",
       "      <td>False</td>\n",
       "      <td>NaN</td>\n",
       "      <td>0.04241</td>\n",
       "    </tr>\n",
       "    <tr>\n",
       "      <th>6</th>\n",
       "      <td>2024-08-29 13:50:08.847000+00:00</td>\n",
       "      <td>0.04241</td>\n",
       "      <td>False</td>\n",
       "      <td>NaN</td>\n",
       "      <td>0.04241</td>\n",
       "    </tr>\n",
       "    <tr>\n",
       "      <th>7</th>\n",
       "      <td>2024-08-29 13:50:08.847000+00:00</td>\n",
       "      <td>0.04241</td>\n",
       "      <td>False</td>\n",
       "      <td>NaN</td>\n",
       "      <td>0.04241</td>\n",
       "    </tr>\n",
       "    <tr>\n",
       "      <th>8</th>\n",
       "      <td>2024-08-29 13:50:08.847000+00:00</td>\n",
       "      <td>0.04241</td>\n",
       "      <td>False</td>\n",
       "      <td>NaN</td>\n",
       "      <td>0.04241</td>\n",
       "    </tr>\n",
       "    <tr>\n",
       "      <th>9</th>\n",
       "      <td>2024-08-29 13:50:08.847000+00:00</td>\n",
       "      <td>0.04241</td>\n",
       "      <td>False</td>\n",
       "      <td>NaN</td>\n",
       "      <td>0.04241</td>\n",
       "    </tr>\n",
       "    <tr>\n",
       "      <th>10</th>\n",
       "      <td>2024-08-29 13:50:08.847000+00:00</td>\n",
       "      <td>0.04241</td>\n",
       "      <td>False</td>\n",
       "      <td>NaN</td>\n",
       "      <td>0.04241</td>\n",
       "    </tr>\n",
       "    <tr>\n",
       "      <th>11</th>\n",
       "      <td>2024-08-29 13:50:08.847000+00:00</td>\n",
       "      <td>0.04241</td>\n",
       "      <td>False</td>\n",
       "      <td>NaN</td>\n",
       "      <td>0.04241</td>\n",
       "    </tr>\n",
       "    <tr>\n",
       "      <th>12</th>\n",
       "      <td>2024-08-29 13:50:08.847000+00:00</td>\n",
       "      <td>0.04241</td>\n",
       "      <td>False</td>\n",
       "      <td>NaN</td>\n",
       "      <td>0.04241</td>\n",
       "    </tr>\n",
       "    <tr>\n",
       "      <th>13</th>\n",
       "      <td>2024-08-29 13:50:12.023000+00:00</td>\n",
       "      <td>0.04241</td>\n",
       "      <td>False</td>\n",
       "      <td>NaN</td>\n",
       "      <td>0.04241</td>\n",
       "    </tr>\n",
       "    <tr>\n",
       "      <th>14</th>\n",
       "      <td>2024-08-29 13:50:12.039000+00:00</td>\n",
       "      <td>0.04241</td>\n",
       "      <td>False</td>\n",
       "      <td>NaN</td>\n",
       "      <td>0.04241</td>\n",
       "    </tr>\n",
       "    <tr>\n",
       "      <th>15</th>\n",
       "      <td>2024-08-29 13:50:12.623000+00:00</td>\n",
       "      <td>0.04240</td>\n",
       "      <td>True</td>\n",
       "      <td>0.0424</td>\n",
       "      <td>NaN</td>\n",
       "    </tr>\n",
       "    <tr>\n",
       "      <th>16</th>\n",
       "      <td>2024-08-29 13:50:12.887000+00:00</td>\n",
       "      <td>0.04241</td>\n",
       "      <td>False</td>\n",
       "      <td>NaN</td>\n",
       "      <td>0.04241</td>\n",
       "    </tr>\n",
       "    <tr>\n",
       "      <th>17</th>\n",
       "      <td>2024-08-29 13:50:12.887000+00:00</td>\n",
       "      <td>0.04241</td>\n",
       "      <td>False</td>\n",
       "      <td>NaN</td>\n",
       "      <td>0.04241</td>\n",
       "    </tr>\n",
       "    <tr>\n",
       "      <th>18</th>\n",
       "      <td>2024-08-29 13:50:12.887000+00:00</td>\n",
       "      <td>0.04241</td>\n",
       "      <td>False</td>\n",
       "      <td>NaN</td>\n",
       "      <td>0.04241</td>\n",
       "    </tr>\n",
       "    <tr>\n",
       "      <th>19</th>\n",
       "      <td>2024-08-29 13:50:12.887000+00:00</td>\n",
       "      <td>0.04241</td>\n",
       "      <td>False</td>\n",
       "      <td>NaN</td>\n",
       "      <td>0.04241</td>\n",
       "    </tr>\n",
       "    <tr>\n",
       "      <th>20</th>\n",
       "      <td>2024-08-29 13:50:12.887000+00:00</td>\n",
       "      <td>0.04241</td>\n",
       "      <td>False</td>\n",
       "      <td>NaN</td>\n",
       "      <td>0.04241</td>\n",
       "    </tr>\n",
       "    <tr>\n",
       "      <th>21</th>\n",
       "      <td>2024-08-29 13:50:12.887000+00:00</td>\n",
       "      <td>0.04241</td>\n",
       "      <td>False</td>\n",
       "      <td>NaN</td>\n",
       "      <td>0.04241</td>\n",
       "    </tr>\n",
       "    <tr>\n",
       "      <th>22</th>\n",
       "      <td>2024-08-29 13:50:12.887000+00:00</td>\n",
       "      <td>0.04241</td>\n",
       "      <td>False</td>\n",
       "      <td>NaN</td>\n",
       "      <td>0.04241</td>\n",
       "    </tr>\n",
       "    <tr>\n",
       "      <th>23</th>\n",
       "      <td>2024-08-29 13:50:12.887000+00:00</td>\n",
       "      <td>0.04241</td>\n",
       "      <td>False</td>\n",
       "      <td>NaN</td>\n",
       "      <td>0.04241</td>\n",
       "    </tr>\n",
       "  </tbody>\n",
       "</table>\n",
       "</div>"
      ]
     },
     "execution_count": 111,
     "metadata": {},
     "output_type": "execute_result"
    }
   ],
   "execution_count": 111
  },
  {
   "metadata": {
    "ExecuteTime": {
     "end_time": "2024-08-29T17:28:19.415815Z",
     "start_time": "2024-08-29T17:28:19.385817Z"
    }
   },
   "cell_type": "code",
   "source": [
    "exchange_query = f\"SELECT name FROM public.exchanges WHERE id = %s\" \n",
    "exchange_name = pd.read_sql_query(exchange_query, engine , params=(exchange_id,)).iloc[0, 0]"
   ],
   "id": "72fe5642d3998573",
   "outputs": [],
   "execution_count": 112
  },
  {
   "metadata": {
    "ExecuteTime": {
     "end_time": "2024-08-29T17:28:20.193208Z",
     "start_time": "2024-08-29T17:28:20.183202Z"
    }
   },
   "cell_type": "code",
   "source": "",
   "id": "9106f90c67c546d",
   "outputs": [],
   "execution_count": 112
  },
  {
   "metadata": {
    "ExecuteTime": {
     "end_time": "2024-08-29T17:28:20.735373Z",
     "start_time": "2024-08-29T17:28:20.707373Z"
    }
   },
   "cell_type": "code",
   "source": [
    "symbol_query = f\"SELECT name FROM public.symbols WHERE id = %s AND exchange_id = %s\"\n",
    "symbol_name = pd.read_sql_query(symbol_query, engine , params=(symbol_id, exchange_id,)).iloc[0, 0]"
   ],
   "id": "67f1e4e1107ce4a4",
   "outputs": [],
   "execution_count": 113
  },
  {
   "metadata": {
    "ExecuteTime": {
     "end_time": "2024-08-29T17:28:21.218102Z",
     "start_time": "2024-08-29T17:28:21.209916Z"
    }
   },
   "cell_type": "code",
   "source": "",
   "id": "1b7b4848c38cb16d",
   "outputs": [],
   "execution_count": 113
  },
  {
   "metadata": {
    "ExecuteTime": {
     "end_time": "2024-08-29T17:28:33.796119Z",
     "start_time": "2024-08-29T17:28:33.334670Z"
    }
   },
   "cell_type": "code",
   "source": [
    "plt.figure(figsize=(12, 6))\n",
    "plt.plot(df['timestamp'], df['sell_price'], marker='o', linestyle='None', color='r')\n",
    "plt.plot(df['timestamp'], df['buy_price'], marker='o', linestyle='None', color='g')\n",
    "plt.title(f'Last Price. Exchange {exchange_name} and Symbol {symbol_name}')\n",
    "plt.xlabel('Timestamp')\n",
    "plt.ylabel('Price')\n",
    "plt.gca().yaxis.set_major_formatter(plt.FuncFormatter(lambda x, _: f'{x:.5f}'))\n",
    "plt.grid(True)\n",
    "plt.show()"
   ],
   "id": "72af8b181812a7d1",
   "outputs": [
    {
     "data": {
      "text/plain": [
       "<Figure size 1200x600 with 1 Axes>"
      ],
      "image/png": "[encoded data removed]"
     },
     "metadata": {},
     "output_type": "display_data"
    }
   ],
   "execution_count": 115
  },
  {
   "metadata": {},
   "cell_type": "code",
   "outputs": [],
   "execution_count": null,
   "source": "",
   "id": "c9d85cc8d8d8d600"
  }
 ],
 "metadata": {
  "kernelspec": {
   "display_name": "Python 3",
   "language": "python",
   "name": "python3"
  },
  "language_info": {
   "codemirror_mode": {
    "name": "ipython",
    "version": 2
   },
   "file_extension": ".py",
   "mimetype": "text/x-python",
   "name": "python",
   "nbconvert_exporter": "python",
   "pygments_lexer": "ipython2",
   "version": "2.7.6"
  }
 },
 "nbformat": 4,
 "nbformat_minor": 5
}
